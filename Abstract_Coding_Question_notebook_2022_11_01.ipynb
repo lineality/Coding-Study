{
  "nbformat": 4,
  "nbformat_minor": 0,
  "metadata": {
    "colab": {
      "provenance": [],
      "collapsed_sections": []
    },
    "kernelspec": {
      "name": "python3",
      "display_name": "Python 3"
    },
    "language_info": {
      "name": "python"
    }
  },
  "cells": [
    {
      "cell_type": "markdown",
      "source": [
        "2022.11.01 Geoffrey Gordon Ashbrook"
      ],
      "metadata": {
        "id": "nJlCUCjFlxJa"
      }
    },
    {
      "cell_type": "markdown",
      "source": [
        "```\n",
        "Abstract Coding Question:\n",
        "\n",
        "    1. Create a dataframe that looks like this:\n",
        "\n",
        "          EMLTY & A & A       AOB\n",
        "          A & B & B           xyz\n",
        "          EMLTY & A & A & B   NONE\n",
        "\n",
        "\n",
        "    2. define a single function to conditionally add a column:\n",
        "        - if col2 is NONE then replace with A; \n",
        "            - if not NONE, drop last letter in col1\n",
        "        - join processed col1 col2 together to get new col\n",
        "\n",
        "    3. apply function to a df\n",
        "```"
      ],
      "metadata": {
        "id": "HybwPisamMta"
      }
    },
    {
      "cell_type": "markdown",
      "source": [
        "```\n",
        "EMLTY & A & A       AOB\n",
        "A & B & B           xyz\n",
        "EMLTY & A & A & B   NONE\n",
        "```"
      ],
      "metadata": {
        "id": "gHpmzht_p7wz"
      }
    },
    {
      "cell_type": "markdown",
      "source": [
        "# Sample Solution"
      ],
      "metadata": {
        "id": "CP4kEVVrq8K5"
      }
    },
    {
      "cell_type": "code",
      "source": [
        "\"\"\"\n",
        "Your Have:  Two string columns in a pandas df\n",
        "\n",
        "Your Need:  A third conditional column\n",
        "\n",
        "You Must:   Use a single function\n",
        "\n",
        "Method:\n",
        "  df[\"col3\"] = np.select(filters, values)\n",
        "\n",
        "\"\"\"\n",
        "\n",
        "\n",
        "import numpy as np\n",
        "import pandas as pd\n",
        "\n",
        "# use list of strings method to populate initial dataframe\n",
        "\n",
        "col1_list = [\"EMLTY & A & A\", \"A & B & B\", \"EMLTY & A & A & B\"]\n",
        "\n",
        "col2_list = [\"AOB\",\"xyz\",\"NONE\"]\n",
        "\n",
        "modified_list_1 = []\n",
        "modified_list_2 = []\n",
        "\n",
        "df = pd.DataFrame( list( zip(col1_list, col2_list)), \n",
        "                  columns =['col1', 'col2'])\n",
        "\n",
        "def preprocess(df):\n",
        "    \"\"\"\n",
        "    requires: pandas, numpy\n",
        "\n",
        "    define a function:\n",
        "    if col2 is NONE then replace with A; if not NONE, drop last letter in col1\n",
        "    join processed col1 col2 together to get new col\n",
        "\n",
        "    uses: numpy select for conditional changes\n",
        "    \"\"\"  \n",
        "\n",
        "    # Whether column 2 contains 'NONE' or not\n",
        "    filters = [\n",
        "      (df['col2'] == \"NONE\"),\n",
        "      (df['col2'] != \"NONE\")]\n",
        "\n",
        "    \"\"\"\n",
        "    Conditionally merge col1 and col2:\n",
        "    - if col2 is NONE, add an 'A' to column 1\n",
        "    - if col2 not NONE, remove the last character from col1 and merge with col2\n",
        "    \"\"\"\n",
        "    values = [df['col1']+' A',\n",
        "            df['col1'].str[:-1] + df['col2']]\n",
        "\n",
        "    # apply changes\n",
        "    df[\"col3\"] = np.select(filters, values)\n",
        "\n",
        "    return df\n",
        "\n",
        "# apply preprocess to df via a single function\n",
        "df = preprocess(df)\n",
        "\n",
        "# print results\n",
        "print(df)"
      ],
      "metadata": {
        "colab": {
          "base_uri": "https://localhost:8080/"
        },
        "id": "L3PhJRVwKfGX",
        "outputId": "8188a885-fc69-473c-f000-cc3487683327"
      },
      "execution_count": 44,
      "outputs": [
        {
          "output_type": "stream",
          "name": "stdout",
          "text": [
            "                col1  col2                 col3\n",
            "0      EMLTY & A & A   AOB      EMLTY & A & AOB\n",
            "1          A & B & B   xyz          A & B & xyz\n",
            "2  EMLTY & A & A & B  NONE  EMLTY & A & A & B A\n"
          ]
        }
      ]
    }
  ]
}